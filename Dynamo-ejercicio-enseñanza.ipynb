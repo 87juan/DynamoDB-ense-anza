{
 "cells": [
  {
   "cell_type": "markdown",
   "id": "aa3c98a2-c13e-4c2a-be55-34b0bbc0d6f9",
   "metadata": {
    "tags": []
   },
   "source": [
    "<h3>3.1 Acciones iniciales</h3>"
   ]
  },
  {
   "cell_type": "code",
   "execution_count": 1,
   "id": "6b2e0911-b3fe-4581-83da-f25b8da090f5",
   "metadata": {
    "tags": []
   },
   "outputs": [
    {
     "name": "stdout",
     "output_type": "stream",
     "text": [
      "Requirement already satisfied: boto3 in /home/juanlopez/.local/lib/python3.8/site-packages (1.26.121)\n",
      "Requirement already satisfied: botocore<1.30.0,>=1.29.121 in /home/juanlopez/.local/lib/python3.8/site-packages (from boto3) (1.29.121)\n",
      "Requirement already satisfied: s3transfer<0.7.0,>=0.6.0 in /home/juanlopez/.local/lib/python3.8/site-packages (from boto3) (0.6.0)\n",
      "Requirement already satisfied: jmespath<2.0.0,>=0.7.1 in /home/juanlopez/.local/lib/python3.8/site-packages (from boto3) (1.0.1)\n",
      "Requirement already satisfied: urllib3<1.27,>=1.25.4 in /usr/lib/python3/dist-packages (from botocore<1.30.0,>=1.29.121->boto3) (1.25.8)\n",
      "Requirement already satisfied: python-dateutil<3.0.0,>=2.1 in /usr/local/lib/python3.8/dist-packages (from botocore<1.30.0,>=1.29.121->boto3) (2.8.2)\n",
      "Requirement already satisfied: six>=1.5 in /usr/lib/python3/dist-packages (from python-dateutil<3.0.0,>=2.1->botocore<1.30.0,>=1.29.121->boto3) (1.14.0)\n",
      "Requirement already satisfied: Faker in /home/juanlopez/.local/lib/python3.8/site-packages (18.6.0)\n",
      "Requirement already satisfied: python-dateutil>=2.4 in /usr/local/lib/python3.8/dist-packages (from Faker) (2.8.2)\n",
      "Requirement already satisfied: six>=1.5 in /usr/lib/python3/dist-packages (from python-dateutil>=2.4->Faker) (1.14.0)\n"
     ]
    }
   ],
   "source": [
    "!pip install boto3       # Librería acceso AWS\n",
    "!pip install Faker       # Generar datos fake "
   ]
  },
  {
   "cell_type": "code",
   "execution_count": 3,
   "id": "9da5d0a8-362f-4006-8780-f1c4cd7eb826",
   "metadata": {
    "tags": []
   },
   "outputs": [],
   "source": [
    "import boto3\n",
    "import botocore\n",
    "import os\n",
    "import time\n",
    "\n",
    "ts_actual = int(time.time())"
   ]
  },
  {
   "cell_type": "code",
   "execution_count": 35,
   "id": "9f922c32-1b36-4bcf-b831-524242e7d844",
   "metadata": {
    "tags": []
   },
   "outputs": [
    {
     "data": {
      "text/plain": [
       "1683710007"
      ]
     },
     "execution_count": 35,
     "metadata": {},
     "output_type": "execute_result"
    }
   ],
   "source": [
    "ts_actual"
   ]
  },
  {
   "cell_type": "code",
   "execution_count": 5,
   "id": "56b1425a-52ec-4d4e-b197-1a73a2272c4c",
   "metadata": {
    "tags": []
   },
   "outputs": [],
   "source": [
    "dynamo_client = boto3.client('dynamodb', region_name='eu-west-3')"
   ]
  },
  {
   "cell_type": "code",
   "execution_count": 6,
   "id": "327bfc3d-2851-4178-8a0f-41a5770663db",
   "metadata": {
    "tags": []
   },
   "outputs": [
    {
     "data": {
      "text/plain": [
       "<botocore.client.DynamoDB at 0x7f4e51536a00>"
      ]
     },
     "execution_count": 6,
     "metadata": {},
     "output_type": "execute_result"
    }
   ],
   "source": [
    "dynamo_client"
   ]
  },
  {
   "cell_type": "markdown",
   "id": "660c040e-2580-462a-a823-b4e1054104c5",
   "metadata": {},
   "source": [
    "<h3>3.2 Listar y describir tablas</h3>"
   ]
  },
  {
   "cell_type": "code",
   "execution_count": 9,
   "id": "13adb1f9-c35e-43ad-be00-5ff6b83d6a76",
   "metadata": {
    "collapsed": true,
    "jupyter": {
     "outputs_hidden": true
    },
    "tags": []
   },
   "outputs": [
    {
     "name": "stdout",
     "output_type": "stream",
     "text": [
      "Detalles de la tabla Ejercicio\n",
      "\n",
      "{'Table': {'AttributeDefinitions': [{'AttributeName': 'Especialidad', 'AttributeType': 'S'}, {'AttributeName': 'Registro', 'AttributeType': 'N'}, {'AttributeName': 'Tipo', 'AttributeType': 'S'}], 'TableName': 'Ejercicio', 'KeySchema': [{'AttributeName': 'Tipo', 'KeyType': 'HASH'}, {'AttributeName': 'Registro', 'KeyType': 'RANGE'}], 'TableStatus': 'ACTIVE', 'CreationDateTime': datetime.datetime(2023, 5, 10, 11, 11, 52, 838000, tzinfo=tzlocal()), 'ProvisionedThroughput': {'NumberOfDecreasesToday': 0, 'ReadCapacityUnits': 0, 'WriteCapacityUnits': 0}, 'TableSizeBytes': 0, 'ItemCount': 0, 'TableArn': 'arn:aws:dynamodb:eu-west-3:336247090034:table/Ejercicio', 'TableId': 'bbc52b74-fc1b-48d6-ada8-f7f9a2d2953e', 'BillingModeSummary': {'BillingMode': 'PAY_PER_REQUEST', 'LastUpdateToPayPerRequestDateTime': datetime.datetime(2023, 5, 10, 11, 11, 52, 838000, tzinfo=tzlocal())}, 'LocalSecondaryIndexes': [{'IndexName': 'Especialidad-index', 'KeySchema': [{'AttributeName': 'Tipo', 'KeyType': 'HASH'}, {'AttributeName': 'Especialidad', 'KeyType': 'RANGE'}], 'Projection': {'ProjectionType': 'ALL'}, 'IndexSizeBytes': 0, 'ItemCount': 0, 'IndexArn': 'arn:aws:dynamodb:eu-west-3:336247090034:table/Ejercicio/index/Especialidad-index'}], 'TableClassSummary': {'TableClass': 'STANDARD'}, 'DeletionProtectionEnabled': False}, 'ResponseMetadata': {'RequestId': '9ILRFB9DA7SIS16GGBR4FAGLUFVV4KQNSO5AEMVJF66Q9ASUAAJG', 'HTTPStatusCode': 200, 'HTTPHeaders': {'server': 'Server', 'date': 'Wed, 10 May 2023 09:19:03 GMT', 'content-type': 'application/x-amz-json-1.0', 'content-length': '1263', 'connection': 'keep-alive', 'x-amzn-requestid': '9ILRFB9DA7SIS16GGBR4FAGLUFVV4KQNSO5AEMVJF66Q9ASUAAJG', 'x-amz-crc32': '4223281116'}, 'RetryAttempts': 0}}\n",
      "\n"
     ]
    }
   ],
   "source": [
    "# Listar las tablas que tengamos en nuestro entorno\n",
    "response = dynamo_client.list_tables()\n",
    "for table in response['TableNames']:    \n",
    "    print(f'Detalles de la tabla {table}\\n')\n",
    "    print(f'{dynamo_client.describe_table(TableName=table)}\\n')          \n",
    "    # Mostramos la información de cada tabla aunque no tenga datos"
   ]
  },
  {
   "cell_type": "code",
   "execution_count": 10,
   "id": "8f4050af-9964-4913-b670-3fb1f9673698",
   "metadata": {
    "collapsed": true,
    "jupyter": {
     "outputs_hidden": true
    },
    "tags": []
   },
   "outputs": [
    {
     "data": {
      "text/plain": [
       "{'TableNames': ['Ejercicio'],\n",
       " 'ResponseMetadata': {'RequestId': 'H5RLH1NKTTBLBEU42KIOKQ5RP7VV4KQNSO5AEMVJF66Q9ASUAAJG',\n",
       "  'HTTPStatusCode': 200,\n",
       "  'HTTPHeaders': {'server': 'Server',\n",
       "   'date': 'Wed, 10 May 2023 09:19:03 GMT',\n",
       "   'content-type': 'application/x-amz-json-1.0',\n",
       "   'content-length': '28',\n",
       "   'connection': 'keep-alive',\n",
       "   'x-amzn-requestid': 'H5RLH1NKTTBLBEU42KIOKQ5RP7VV4KQNSO5AEMVJF66Q9ASUAAJG',\n",
       "   'x-amz-crc32': '512678937'},\n",
       "  'RetryAttempts': 0}}"
      ]
     },
     "execution_count": 10,
     "metadata": {},
     "output_type": "execute_result"
    }
   ],
   "source": [
    "response"
   ]
  },
  {
   "cell_type": "markdown",
   "id": "22a21fa1-90ad-48c4-904b-fc82348783f6",
   "metadata": {},
   "source": [
    "<h3>3.3 Añadiendo entradas aisladas</h3>"
   ]
  },
  {
   "cell_type": "markdown",
   "id": "b1b3d241-ce7f-48ed-9ecb-452273dad194",
   "metadata": {},
   "source": [
    "Aqui usamos otra tabla para entender mejor como añadir entrada"
   ]
  },
  {
   "cell_type": "code",
   "execution_count": 15,
   "id": "9a46db2a-77d5-4aa5-9686-68fe1b718ac3",
   "metadata": {
    "tags": []
   },
   "outputs": [
    {
     "name": "stdout",
     "output_type": "stream",
     "text": [
      "0.-Problema al insertar la entrada {'Tipo': 'Profesor', 'Registro': 1683710007, 'Especialidad': 'AWS'}: Parameter validation failed:\n",
      "Invalid type for parameter Item.Tipo, value: Profesor, type: <class 'str'>, valid types: <class 'dict'>\n",
      "Invalid type for parameter Item.Registro, value: 1683710007, type: <class 'int'>, valid types: <class 'dict'>\n",
      "Invalid type for parameter Item.Especialidad, value: AWS, type: <class 'str'>, valid types: <class 'dict'> \n",
      "\n"
     ]
    }
   ],
   "source": [
    "# dynamo_client = boto3.client('dynamodb', region_name='eu-west-3')\n",
    "\n",
    "TABLE_NAME = 'Modulo11'\n",
    "entrada = {\n",
    "    \"Tipo\": \"Profesor\",\n",
    "    \"Registro\": ts_actual,\n",
    "    \"Especialidad\": \"AWS\"\n",
    "}\n",
    "\n",
    "try:\n",
    "    put_response = dynamo_client.put_item(TableName=TABLE_NAME, Item=entrada)\n",
    "    print(f'0.-Entrada {entrada} añadida correctamente: {put_response} \\n')\n",
    "except Exception as e:\n",
    "    print(f'0.-Problema al insertar la entrada {entrada}: {e} \\n')\n",
    "# Es normal que no funcione"
   ]
  },
  {
   "cell_type": "markdown",
   "id": "cf8625fa-58f3-4aa2-8913-93ce2bfcb40e",
   "metadata": {},
   "source": [
    "-------------------------------------------------------------------------------------------------------------------------------------------------------------------------------------------------------------"
   ]
  },
  {
   "cell_type": "code",
   "execution_count": 28,
   "id": "11e602ea-38db-46f3-991d-a32447e34eb4",
   "metadata": {
    "tags": []
   },
   "outputs": [
    {
     "name": "stdout",
     "output_type": "stream",
     "text": [
      "1.- Entrada {'Tipo': {'S': 'Profesor'}, 'Registro': {'N': '1683710007'}, 'Especialidad': {'S': 'AWS'}} añadida correctamente: {'ResponseMetadata': {'RequestId': 'L6UGGJI9IVVVBLMMBOGFDRTPS3VV4KQNSO5AEMVJF66Q9ASUAAJG', 'HTTPStatusCode': 200, 'HTTPHeaders': {'server': 'Server', 'date': 'Wed, 10 May 2023 10:16:51 GMT', 'content-type': 'application/x-amz-json-1.0', 'content-length': '2', 'connection': 'keep-alive', 'x-amzn-requestid': 'L6UGGJI9IVVVBLMMBOGFDRTPS3VV4KQNSO5AEMVJF66Q9ASUAAJG', 'x-amz-crc32': '2745614147'}, 'RetryAttempts': 0}} \n",
      "\n",
      "1.- Numero total de entradas: 0\n",
      "\n"
     ]
    }
   ],
   "source": [
    "# Vemos que se nos solicita un formato específico para los datos --> Comprobar en la consola usando DynamoDB JSON\n",
    "# S=straing y N=number\n",
    "entrada = {\n",
    "    \"Tipo\": {\"S\": \"Profesor\"},\n",
    "    \"Registro\": {\"N\": str(ts_actual)},\n",
    "    \"Especialidad\": {\"S\": \"AWS\"}\n",
    "}\n",
    "\n",
    "\n",
    "try:\n",
    "    put_response = dynamo_client.put_item(TableName=TABLE_NAME, Item=entrada)\n",
    "    print(f'1.- Entrada {entrada} añadida correctamente: {put_response} \\n')\n",
    "    print(f'1.- Numero total de entradas: {dynamo_client.describe_table(TableName=TABLE_NAME)[\"Table\"][\"ItemCount\"]}\\n')     \n",
    "except Exception as e:\n",
    "    print(f'1.- Problema al insertar la entrada {entrada}: {e} \\n')   "
   ]
  },
  {
   "cell_type": "markdown",
   "id": "15d5830b-270b-4ee3-bbfd-eb9a6c50a896",
   "metadata": {},
   "source": [
    "-------------------------------------------------------------------------------------------------------------------------------------------------------------------------------------------------------------"
   ]
  },
  {
   "cell_type": "code",
   "execution_count": 30,
   "id": "5b002f08-3b48-4f62-8240-5658b7523494",
   "metadata": {
    "collapsed": true,
    "jupyter": {
     "outputs_hidden": true
    },
    "tags": []
   },
   "outputs": [
    {
     "name": "stdout",
     "output_type": "stream",
     "text": [
      "2.1.- Entrada {'Tipo': {'S': 'Profesor'}, 'Registro': {'N': '1683710007'}, 'Especialidad': {'S': 'AWS'}} añadida correctamente: {'ResponseMetadata': {'RequestId': 'B02S1H1T92R6O7OK40PJJ5U30NVV4KQNSO5AEMVJF66Q9ASUAAJG', 'HTTPStatusCode': 200, 'HTTPHeaders': {'server': 'Server', 'date': 'Wed, 10 May 2023 10:18:08 GMT', 'content-type': 'application/x-amz-json-1.0', 'content-length': '2', 'connection': 'keep-alive', 'x-amzn-requestid': 'B02S1H1T92R6O7OK40PJJ5U30NVV4KQNSO5AEMVJF66Q9ASUAAJG', 'x-amz-crc32': '2745614147'}, 'RetryAttempts': 0}} \n",
      "\n",
      "2.1.- Numero total de entradas: 0\n",
      "\n",
      "2.2.- Entrada {'Tipo': {'S': 'Profesor'}, 'Registro': {'N': '1683710007'}, 'Especialidad': {'S': 'AWS'}} añadida correctamente: {'ResponseMetadata': {'RequestId': '3DN981RPBVJNKB6N63GLK61R73VV4KQNSO5AEMVJF66Q9ASUAAJG', 'HTTPStatusCode': 200, 'HTTPHeaders': {'server': 'Server', 'date': 'Wed, 10 May 2023 10:18:08 GMT', 'content-type': 'application/x-amz-json-1.0', 'content-length': '2', 'connection': 'keep-alive', 'x-amzn-requestid': '3DN981RPBVJNKB6N63GLK61R73VV4KQNSO5AEMVJF66Q9ASUAAJG', 'x-amz-crc32': '2745614147'}, 'RetryAttempts': 0}} \n",
      "\n",
      "2.2.- Numero total de entradas: 0\n",
      "\n",
      "2.3.- Entrada {'Tipo': {'S': 'Profesor'}, 'Registro': {'N': '1683710007'}, 'Especialidad': {'S': 'AWS'}} añadida correctamente: {'ResponseMetadata': {'RequestId': '7II06NB2RU9S138DJ75E4NBQFVVV4KQNSO5AEMVJF66Q9ASUAAJG', 'HTTPStatusCode': 200, 'HTTPHeaders': {'server': 'Server', 'date': 'Wed, 10 May 2023 10:18:08 GMT', 'content-type': 'application/x-amz-json-1.0', 'content-length': '2', 'connection': 'keep-alive', 'x-amzn-requestid': '7II06NB2RU9S138DJ75E4NBQFVVV4KQNSO5AEMVJF66Q9ASUAAJG', 'x-amz-crc32': '2745614147'}, 'RetryAttempts': 0}} \n",
      "\n",
      "2.3.- Numero total de entradas: 0\n",
      "\n",
      "2.4.- Entrada {'Tipo': {'S': 'Profesor'}, 'Registro': {'N': '1683710007'}, 'Especialidad': {'S': 'AWS'}} añadida correctamente: {'ResponseMetadata': {'RequestId': 'OMDBNSB2OL84TOA7V0A0IUIRPJVV4KQNSO5AEMVJF66Q9ASUAAJG', 'HTTPStatusCode': 200, 'HTTPHeaders': {'server': 'Server', 'date': 'Wed, 10 May 2023 10:18:08 GMT', 'content-type': 'application/x-amz-json-1.0', 'content-length': '2', 'connection': 'keep-alive', 'x-amzn-requestid': 'OMDBNSB2OL84TOA7V0A0IUIRPJVV4KQNSO5AEMVJF66Q9ASUAAJG', 'x-amz-crc32': '2745614147'}, 'RetryAttempts': 0}} \n",
      "\n",
      "2.4.- Numero total de entradas: 0\n",
      "\n",
      "2.5.- Entrada {'Tipo': {'S': 'Profesor'}, 'Registro': {'N': '1683710007'}, 'Especialidad': {'S': 'AWS'}} añadida correctamente: {'ResponseMetadata': {'RequestId': '410UG1SKSLBK30MU0U0GLEGRURVV4KQNSO5AEMVJF66Q9ASUAAJG', 'HTTPStatusCode': 200, 'HTTPHeaders': {'server': 'Server', 'date': 'Wed, 10 May 2023 10:18:08 GMT', 'content-type': 'application/x-amz-json-1.0', 'content-length': '2', 'connection': 'keep-alive', 'x-amzn-requestid': '410UG1SKSLBK30MU0U0GLEGRURVV4KQNSO5AEMVJF66Q9ASUAAJG', 'x-amz-crc32': '2745614147'}, 'RetryAttempts': 0}} \n",
      "\n",
      "2.5.- Numero total de entradas: 0\n",
      "\n"
     ]
    }
   ],
   "source": [
    "# Si repetimos la operación, aunque no falle (codigo 200) , lo que estamos haciendo es \"sobreescribir la entrada previa\" y \n",
    "# no cambia nada (por eso de que sigeteniendo el mismo valor) \n",
    "\n",
    "for i in range(1,6):\n",
    "    try:\n",
    "        put_response = dynamo_client.put_item(TableName=TABLE_NAME, Item=entrada)\n",
    "        print(f'2.{i}.- Entrada {entrada} añadida correctamente: {put_response} \\n')\n",
    "        print(f'2.{i}.- Numero total de entradas: {dynamo_client.describe_table(TableName=TABLE_NAME)[\"Table\"][\"ItemCount\"]}\\n')     \n",
    "    except Exception as e:\n",
    "        print(f'2-{i}.- Problema al insertar la entrada {entrada}: {e} \\n')       "
   ]
  },
  {
   "cell_type": "markdown",
   "id": "108ec7c1-b1c7-4fd2-b7dc-63e309689321",
   "metadata": {},
   "source": [
    "------------------------------------------------------------------------------------------------------------------------------------------------------------------------------------------------------------"
   ]
  },
  {
   "cell_type": "code",
   "execution_count": 29,
   "id": "5e596249-860f-42f4-88f3-2ee6b9769585",
   "metadata": {
    "tags": []
   },
   "outputs": [
    {
     "name": "stdout",
     "output_type": "stream",
     "text": [
      "3.- Entrada {'Tipo': {'S': 'Profesor'}, 'Registro': {'N': '1683710007'}, 'Especialidad': {'S': 'AWS'}} añadida correctamente: {'Attributes': {'Tipo': {'S': 'Profesor'}, 'Especialidad': {'S': 'AWS'}, 'Registro': {'N': '1683710007'}}, 'ResponseMetadata': {'RequestId': 'OMPAF83M2G7RCM8DDDBG92U14FVV4KQNSO5AEMVJF66Q9ASUAAJG', 'HTTPStatusCode': 200, 'HTTPHeaders': {'server': 'Server', 'date': 'Wed, 10 May 2023 10:16:56 GMT', 'content-type': 'application/x-amz-json-1.0', 'content-length': '97', 'connection': 'keep-alive', 'x-amzn-requestid': 'OMPAF83M2G7RCM8DDDBG92U14FVV4KQNSO5AEMVJF66Q9ASUAAJG', 'x-amz-crc32': '1076581699'}, 'RetryAttempts': 0}} \n",
      "\n",
      "3.- Numero total de entradas: 0\n",
      "\n"
     ]
    }
   ],
   "source": [
    "# Podemos usar un parámetro para obtener el resultado, de forma que podemos comprobar si se ha sobreescrito o no\n",
    "\n",
    "try:\n",
    "    put_response = dynamo_client.put_item(TableName=TABLE_NAME, Item=entrada, ReturnValues=\"ALL_OLD\")\n",
    "    print(f'3.- Entrada {entrada} añadida correctamente: {put_response} \\n')\n",
    "    print(f'3.- Numero total de entradas: {dynamo_client.describe_table(TableName=TABLE_NAME)[\"Table\"][\"ItemCount\"]}\\n')     \n",
    "except Exception as e:\n",
    "    print(f'3.-Problema al insertar la entrada {entrada}: {e} \\n')"
   ]
  },
  {
   "cell_type": "markdown",
   "id": "7611bdb7-5f55-45f0-95fa-9cd06df64215",
   "metadata": {},
   "source": [
    "------------------------------------------------------------------------------------------------------------------------------------------------------------------------------------------------------------"
   ]
  },
  {
   "cell_type": "code",
   "execution_count": 21,
   "id": "98541704-8578-431b-9208-41a72454378d",
   "metadata": {
    "tags": []
   },
   "outputs": [
    {
     "name": "stdout",
     "output_type": "stream",
     "text": [
      "4.- Problema al insertar la entrada {'Tipo': {'S': 'Profesor'}, 'Registro': {'N': '1683710007'}, 'Especialidad': {'S': 'AWS'}}: An error occurred (ConditionalCheckFailedException) when calling the PutItem operation: The conditional request failed \n",
      "\n"
     ]
    }
   ],
   "source": [
    "# Podemos también usar una condición para que solo se esciba si no existe previamente\n",
    "\n",
    "CONDICION = 'attribute_not_exists(Tipo) AND attribute_not_exists(Registro)'\n",
    "\n",
    "try:\n",
    "    put_response = dynamo_client.put_item(TableName=TABLE_NAME, Item=entrada, ConditionExpression=CONDICION)\n",
    "    print(f'4.-Entrada {entrada} añadida correctamente: {put_response} \\n')\n",
    "    print(f'4.- Numero total de entradas: {dynamo_client.describe_table(TableName=TABLE_NAME)[\"Table\"][\"ItemCount\"]}\\n')     \n",
    "except Exception as e:\n",
    "    print(f'4.- Problema al insertar la entrada {entrada}: {e} \\n') "
   ]
  },
  {
   "cell_type": "markdown",
   "id": "1999679c-94db-402a-b912-37ce556d2ece",
   "metadata": {},
   "source": [
    "-------------------------------------------------------------------------------------------------------------------------------------------------------------------------"
   ]
  },
  {
   "cell_type": "markdown",
   "id": "506b6251-9c68-4770-ad8a-dcba21540023",
   "metadata": {},
   "source": [
    "De forma simular a put_item podemos utilizar update_item.\n",
    "La diferencia entre ambos métodos es la siguiente:\n",
    "* put_item: si existe una entrada anterior con las mismas claves la reemplaza\n",
    "    * Se eliminan los campos no proporcionados\n",
    "* update_item: si existe una entrada anterior con las mismas claves la actualiza\n",
    "    * Se mantienen los campos no proporcionados, los proporcionados se actualizan"
   ]
  },
  {
   "cell_type": "markdown",
   "id": "e2c55b21-2b9b-4dd2-9f7d-aa97e930b19f",
   "metadata": {
    "tags": []
   },
   "source": [
    "<h3>3.4 Añadiendo entradas en batch</h3>"
   ]
  },
  {
   "cell_type": "markdown",
   "id": "c2ef2a69-f94a-4319-bd94-c288af8f2d79",
   "metadata": {
    "tags": []
   },
   "source": [
    "<h5>El método batch_write_item  permite realizar una carga \"masiva\" de datos, reduciendo la latencia al no tener que\n",
    "establecer una pequeña conexión por cada escritura, además de realizar las escrituras en paralelo.\n",
    "Que podemos crear varios elementos.\n",
    "Con esto no podemos actualizar entradas anteriores, y tenemos limitaciones al no poder enviar más de 16Mb de datos por acción o más de 25 operaciones. </h5>"
   ]
  },
  {
   "cell_type": "code",
   "execution_count": 25,
   "id": "ef083add-dbe4-4ca4-9df8-5f4ad3af37f5",
   "metadata": {
    "tags": []
   },
   "outputs": [
    {
     "name": "stdout",
     "output_type": "stream",
     "text": [
      "{'UnprocessedItems': {}, 'ItemCollectionMetrics': {'Modulo11': [{'ItemCollectionKey': {'Tipo': {'S': 'Alumno'}}, 'SizeEstimateRangeGB': [0.0, 1.0]}]}, 'ConsumedCapacity': [{'TableName': 'Modulo11', 'CapacityUnits': 6.0}], 'ResponseMetadata': {'RequestId': 'VN0R07I1TQ5C2C7V19N3EB3POBVV4KQNSO5AEMVJF66Q9ASUAAJG', 'HTTPStatusCode': 200, 'HTTPHeaders': {'server': 'Server', 'date': 'Wed, 10 May 2023 10:08:33 GMT', 'content-type': 'application/x-amz-json-1.0', 'content-length': '206', 'connection': 'keep-alive', 'x-amzn-requestid': 'VN0R07I1TQ5C2C7V19N3EB3POBVV4KQNSO5AEMVJF66Q9ASUAAJG', 'x-amz-crc32': '3596598752'}, 'RetryAttempts': 0}}\n",
      "Numero total de entradas: 0\n",
      "\n"
     ]
    }
   ],
   "source": [
    "response = dynamo_client.batch_write_item(RequestItems={\n",
    "    TABLE_NAME: [\n",
    "        {\n",
    "            \"PutRequest\": {\n",
    "                \"Item\": {\n",
    "                    \"Tipo\": {\"S\": \"Alumno\"},\n",
    "                    \"Registro\": {\"N\": str(ts_actual+1)},\n",
    "                    \"Especialidad\": {\"S\": \"AWS\"}\n",
    "                }\n",
    "            }\n",
    "        },\n",
    "        {\n",
    "            \"PutRequest\": {\n",
    "                \"Item\": {\n",
    "                    \"Tipo\": {\"S\": \"Alumno\"},\n",
    "                    \"Registro\": {\"N\": str(ts_actual+2)},\n",
    "                    \"Especialidad\": {\"S\": \"AWS\"}\n",
    "                }\n",
    "            }\n",
    "        }\n",
    "        ,\n",
    "        {\n",
    "            \"PutRequest\": {\n",
    "                \"Item\": {\n",
    "                    \"Tipo\": {\"S\": \"Alumno\"},\n",
    "                    \"Registro\": {\"N\": str(ts_actual+3)},\n",
    "                    \"Especialidad\": {\"S\": \"AWS\"}\n",
    "                }\n",
    "            }\n",
    "        }\n",
    "    ]\n",
    "},ReturnConsumedCapacity=\"TOTAL\",ReturnItemCollectionMetrics=\"SIZE\")\n",
    "\n",
    "print(response)\n",
    "print(f'Numero total de entradas: {dynamo_client.describe_table(TableName=TABLE_NAME)[\"Table\"][\"ItemCount\"]}\\n')     \n"
   ]
  },
  {
   "cell_type": "markdown",
   "id": "0aaa9496-0e68-4f4e-9248-7bce7371ae66",
   "metadata": {},
   "source": [
    "-----------------------------------------------------------------------------------------------------------------------------------------------------------------------------------------------------------"
   ]
  },
  {
   "cell_type": "code",
   "execution_count": 37,
   "id": "db03b48b-df99-4e9b-b17e-797105d833a5",
   "metadata": {
    "tags": []
   },
   "outputs": [
    {
     "name": "stdout",
     "output_type": "stream",
     "text": [
      "{'UnprocessedItems': {}, 'ItemCollectionMetrics': {'Modulo11': [{'ItemCollectionKey': {'Tipo': {'S': 'Alumno'}}, 'SizeEstimateRangeGB': [0.0, 1.0]}]}, 'ConsumedCapacity': [{'TableName': 'Modulo11', 'CapacityUnits': 45.0}], 'ResponseMetadata': {'RequestId': 'DQDHT3A8EAGTQL86HL0Q11SDGBVV4KQNSO5AEMVJF66Q9ASUAAJG', 'HTTPStatusCode': 200, 'HTTPHeaders': {'server': 'Server', 'date': 'Wed, 10 May 2023 10:28:23 GMT', 'content-type': 'application/x-amz-json-1.0', 'content-length': '207', 'connection': 'keep-alive', 'x-amzn-requestid': 'DQDHT3A8EAGTQL86HL0Q11SDGBVV4KQNSO5AEMVJF66Q9ASUAAJG', 'x-amz-crc32': '1001552310'}, 'RetryAttempts': 0}}\n",
      "Numero total de entradas: 0\n",
      "\n"
     ]
    }
   ],
   "source": [
    "actions_for_table = []\n",
    "\n",
    "N_UPDATES = 25 # No puede ser mayor que 25\n",
    "\n",
    "for i in range(0,N_UPDATES):\n",
    "    put_request = {\n",
    "        \"PutRequest\": {\n",
    "            \"Item\": {\n",
    "                \"Tipo\": {\"S\": \"Alumno\"},\n",
    "                \"Registro\": {\"N\": str(ts_actual+i)},\n",
    "                \"Especialidad\": {\"S\": \"AWS\"}\n",
    "            }\n",
    "        }\n",
    "    }\n",
    "    actions_for_table.append(put_request)   \n",
    "\n",
    "try:\n",
    "    response = dynamo_client.batch_write_item(RequestItems={\n",
    "        TABLE_NAME: actions_for_table\n",
    "    },ReturnConsumedCapacity=\"TOTAL\",ReturnItemCollectionMetrics=\"SIZE\")\n",
    "except Exception as e:\n",
    "    print(f'\\n\\nProblema durante la escritura batch: {e}\\n\\n')\n",
    "\n",
    "print(response)\n",
    "print(f'Numero total de entradas: {dynamo_client.describe_table(TableName=TABLE_NAME)[\"Table\"][\"ItemCount\"]}\\n')   "
   ]
  },
  {
   "cell_type": "markdown",
   "id": "d5d71614-fac3-4ab5-89bd-bfb34e671e66",
   "metadata": {},
   "source": [
    "--------------------------------------------------------------------------------------------------------------------------------------------------------------------------------------------------------"
   ]
  },
  {
   "cell_type": "markdown",
   "id": "3f4b8c02-fe40-47e7-a1f2-734fe5a43567",
   "metadata": {},
   "source": [
    "Este codigo probocara que se ejecute pero cuanto mas escriba mar errores tendra y menos creara. Lo llevara a los limite de la escritura, probocando errores"
   ]
  },
  {
   "cell_type": "code",
   "execution_count": null,
   "id": "3b1662e2-2fb1-4865-8bb0-b5b062a7c803",
   "metadata": {},
   "outputs": [],
   "source": [
    "N_UPDATES_PER_EXECUTION = 25\n",
    "N_ITERATIONS = 20\n",
    "\n",
    "for j in range(0,N_ITERATIONS):\n",
    "    actions_for_table = []    \n",
    "    ts_actual = int(time.time())\n",
    "    for i in range(0,N_UPDATES_PER_EXECUTION):\n",
    "        put_request = {\n",
    "            \"PutRequest\": {\n",
    "                \"Item\": {\n",
    "                    \"Tipo\": {\"S\": \"Alumno\"},\n",
    "                    \"Registro\": {\"N\": str(ts_actual+i)},\n",
    "                    \"Especialidad\": {\"S\": \"AWS\"}\n",
    "                }\n",
    "            }\n",
    "        }\n",
    "        actions_for_table.append(put_request)   \n",
    "    try:\n",
    "        response = dynamo_client.batch_write_item(RequestItems={\n",
    "            TABLE_NAME: actions_for_table\n",
    "        },ReturnConsumedCapacity=\"TOTAL\",ReturnItemCollectionMetrics=\"SIZE\")\n",
    "    except Exception as e:\n",
    "        print(f'\\n\\nProblema durante la escritura batch: {e}\\n\\n')\n",
    "        \n",
    "\n",
    "    print(response)"
   ]
  },
  {
   "cell_type": "markdown",
   "id": "8c7d0107-0ae2-41c0-bfe8-de930b0360b2",
   "metadata": {},
   "source": [
    "<h3>3.5 Realizando consultas</h3>"
   ]
  },
  {
   "cell_type": "markdown",
   "id": "1ba0d7b9-e9e9-45cf-95ab-3b28838b66fd",
   "metadata": {},
   "source": [
    "A pesar de tener el método scan, se desaconseja su uso dado que DynamoDB tendrá que explorar todo el conjunto de datos antes de devolver el resultado deseado, lo cual afecta a las capacidades de lectura.\n",
    "\n",
    "Usaremos query() \n",
    "\n",
    "Debemos diferenciar entre condiciones sobre la clave o filtrados:\n",
    "* Condiciones sobre la clave: determinan los datos que se van a extraer de la base de datos\n",
    "* Filtrados: sobre los datos extraidos de la base de datos, determina los que se proporcionan con la respuesta"
   ]
  },
  {
   "cell_type": "code",
   "execution_count": 41,
   "id": "782f9d27-921f-4407-b931-b74bd49742b8",
   "metadata": {
    "tags": []
   },
   "outputs": [
    {
     "name": "stdout",
     "output_type": "stream",
     "text": [
      "{'Items': [{'Tipo': {'S': 'Profesor'}, 'Especialidad': {'S': 'AWS'}, 'Registro': {'N': '1683710007'}}], 'Count': 1, 'ScannedCount': 1, 'ResponseMetadata': {'RequestId': '5GN3L08C1PNN61TJ2EONJ8SRLVVV4KQNSO5AEMVJF66Q9ASUAAJG', 'HTTPStatusCode': 200, 'HTTPHeaders': {'server': 'Server', 'date': 'Wed, 10 May 2023 10:51:08 GMT', 'content-type': 'application/x-amz-json-1.0', 'content-length': '121', 'connection': 'keep-alive', 'x-amzn-requestid': '5GN3L08C1PNN61TJ2EONJ8SRLVVV4KQNSO5AEMVJF66Q9ASUAAJG', 'x-amz-crc32': '180727035'}, 'RetryAttempts': 0}}\n",
      "\n",
      "\n",
      "Respuesta con 1 registros\n",
      "\n",
      "{'Tipo': {'S': 'Profesor'}, 'Especialidad': {'S': 'AWS'}, 'Registro': {'N': '1683710007'}}\n",
      "\n"
     ]
    }
   ],
   "source": [
    "# Como mínimo, además de la tabla debemos proporcionar una condición a través de KeyConditions o KeyConditionExpression\n",
    "\n",
    "CONDICION = 'Tipo = :tipo'\n",
    "ATRIBUTOS_CONDICION = {':tipo': {'S': 'Profesor'}}\n",
    "\n",
    "try:\n",
    "    response = dynamo_client.query(TableName=TABLE_NAME, KeyConditionExpression=CONDICION, ExpressionAttributeValues=ATRIBUTOS_CONDICION)\n",
    "    print(f'{response}\\n\\n')\n",
    "    print(f'Respuesta con {response[\"Count\"]} registros\\n')    \n",
    "    for item in response.get('Items', []):\n",
    "        print(f'{item}\\n')\n",
    "except Exception as e:\n",
    "    print(f'Problema durante la lectura: {e}')\n"
   ]
  },
  {
   "cell_type": "markdown",
   "id": "fca113d2-966f-43b6-94ec-538a57bfd7d2",
   "metadata": {},
   "source": [
    "-------------------------------------------------------------------------------------------------------------------------------------------------------------------------------------------------------------"
   ]
  },
  {
   "cell_type": "code",
   "execution_count": 42,
   "id": "e4498fa9-1f11-434c-9b0a-4450fdea94f5",
   "metadata": {
    "tags": []
   },
   "outputs": [
    {
     "name": "stdout",
     "output_type": "stream",
     "text": [
      "{'Items': [], 'Count': 0, 'ScannedCount': 1, 'ResponseMetadata': {'RequestId': 'H5P3H4170ESJJT37VP0DGOR4GJVV4KQNSO5AEMVJF66Q9ASUAAJG', 'HTTPStatusCode': 200, 'HTTPHeaders': {'server': 'Server', 'date': 'Wed, 10 May 2023 10:52:01 GMT', 'content-type': 'application/x-amz-json-1.0', 'content-length': '39', 'connection': 'keep-alive', 'x-amzn-requestid': 'H5P3H4170ESJJT37VP0DGOR4GJVV4KQNSO5AEMVJF66Q9ASUAAJG', 'x-amz-crc32': '3530536553'}, 'RetryAttempts': 0}}\n",
      "\n",
      "\n",
      "Respuesta con 0 registros\n",
      "\n"
     ]
    }
   ],
   "source": [
    "# Además podemos aplicar filtrado (se aplica tras obtener los datos de la tabla)\n",
    "\n",
    "CONDICION = 'Tipo = :tipo'\n",
    "FILTRADO = 'Ciudad = :ciudad' \n",
    "\n",
    "ATRIBUTOS_CONDICION = {\n",
    "    ':tipo': {'S': 'Profesor'},\n",
    "    ':ciudad': {'S': 'Sevilla'},\n",
    "}\n",
    "\n",
    "try:\n",
    "    response = dynamo_client.query(\n",
    "        TableName=TABLE_NAME, \n",
    "        KeyConditionExpression=CONDICION, \n",
    "        FilterExpression=FILTRADO,\n",
    "        ExpressionAttributeValues=ATRIBUTOS_CONDICION)\n",
    "    print(f'{response}\\n\\n')\n",
    "    print(f'Respuesta con {response[\"Count\"]} registros\\n')    \n",
    "    for item in response.get('Items', []):\n",
    "        print(f'{item}\\n')\n",
    "except Exception as e:\n",
    "    print(f'Problema durante la lectura: {e}')\n"
   ]
  },
  {
   "cell_type": "markdown",
   "id": "98de5e18-9abb-4d9b-8099-a9709e29b3bb",
   "metadata": {},
   "source": [
    "------------------------------------------------------------------------------------------------------------------------------------------------------------------------------------------------------------"
   ]
  },
  {
   "cell_type": "code",
   "execution_count": null,
   "id": "79c90b70-d3e1-4bf0-88ca-fd767f3e993b",
   "metadata": {},
   "outputs": [],
   "source": [
    "Se puede proporcionar un valor específico de Sort Key para obtener un único resultado"
   ]
  },
  {
   "cell_type": "code",
   "execution_count": null,
   "id": "4881a05f-3f5b-4a65-9b49-85bdcd18393b",
   "metadata": {},
   "outputs": [],
   "source": [
    "# En la condicion, podemos añadir el valor la Sort Key para reducir aún más el resultado\n",
    "\n",
    "CONDICION = 'Tipo = :tipo and Registro = :registro'\n",
    "ATRIBUTOS_CONDICION = {':tipo': {'S': 'Profesor'}, ':registro': {'N': '0'}}\n",
    "\n",
    "try:\n",
    "    response = dynamo_client.query(TableName=TABLE_NAME, KeyConditionExpression=CONDICION, ExpressionAttributeValues=ATRIBUTOS_CONDICION)\n",
    "    print(f'{response}\\n\\n')\n",
    "    print(f'Respuesta con {response[\"Count\"]} registros\\n')    \n",
    "    for item in response.get('Items', []):\n",
    "        print(f'{item}\\n')\n",
    "except Exception as e:\n",
    "    print(f'Problema durante la lectura: {e}')"
   ]
  },
  {
   "cell_type": "markdown",
   "id": "f8bd462a-540c-4040-b0b1-0dc58bfe1260",
   "metadata": {},
   "source": [
    "----------------------------------------------------------------------------------------------------------------------------------------------------------------------------------------------------------"
   ]
  },
  {
   "cell_type": "code",
   "execution_count": null,
   "id": "97dabe64-330c-44cf-a737-530fecae4601",
   "metadata": {},
   "outputs": [],
   "source": [
    "O trabajar con condiciones sobre la Sort Key"
   ]
  },
  {
   "cell_type": "code",
   "execution_count": null,
   "id": "ad294517-e152-4a20-91c7-62a99014b168",
   "metadata": {},
   "outputs": [],
   "source": [
    "ts_hace_una_hora = int(time.time()) - 60*60\n",
    "CONDICION = 'Tipo = :tipo and Registro < :ts_hace_una_hora'\n",
    "ATRIBUTOS_CONDICION = {':tipo': {'S': 'Alumno'}, ':ts_hace_una_hora': {'N': str(ts_hace_una_hora)}}\n",
    "\n",
    "try:\n",
    "    response = dynamo_client.query(TableName=TABLE_NAME, KeyConditionExpression=CONDICION, ExpressionAttributeValues=ATRIBUTOS_CONDICION)\n",
    "    print(f'{response}\\n\\n')\n",
    "    print(f'Respuesta con {response[\"Count\"]} registros\\n')    \n",
    "    for item in response.get('Items', []):\n",
    "        print(f'{item}\\n')\n",
    "except Exception as e:\n",
    "    print(f'Problema durante la lectura: {e}')"
   ]
  }
 ],
 "metadata": {
  "kernelspec": {
   "display_name": "Python 3 (ipykernel)",
   "language": "python",
   "name": "python3"
  },
  "language_info": {
   "codemirror_mode": {
    "name": "ipython",
    "version": 3
   },
   "file_extension": ".py",
   "mimetype": "text/x-python",
   "name": "python",
   "nbconvert_exporter": "python",
   "pygments_lexer": "ipython3",
   "version": "3.8.10"
  }
 },
 "nbformat": 4,
 "nbformat_minor": 5
}
